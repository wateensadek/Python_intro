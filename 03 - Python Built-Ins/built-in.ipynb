{
 "cells": [
  {
   "cell_type": "markdown",
   "metadata": {},
   "source": [
    "# Python Built-Ins"
   ]
  },
  {
   "cell_type": "markdown",
   "metadata": {},
   "source": [
    "---\n",
    "[Watch a walk-through of this lesson on YouTube](https://youtu.be/kSWWpCga0EE)\n",
    "\n",
    "\n",
    "\n",
    "## Questions:\n",
    "- How can I use built-in functions?\n",
    "- How can I find out what they do?\n",
    "- What kind of errors can occur in programs?\n",
    "\n",
    "## Learning Objectives:\n",
    "- Explain the purpose of functions\n",
    "- Correctly call built-in Python functions\n",
    "- Correctly nest calls to built-in functions\n",
    "- Use help to display documentation for built-in functions\n",
    "- Correctly describe situations in which SyntaxError and NameError occur\n",
    "\n",
    "---"
   ]
  },
  {
   "cell_type": "markdown",
   "metadata": {},
   "source": [
    "## Functions in Python\n",
    "- **Functions** are, effectively, commands that you can run (execute) in Python.\n",
    "- Python provides many built-in functions, such as `print()` and `len()`\n",
    "- Later in this workshop, we will demonstrate how to write your own functions to perform specific tasks repeatedly. In this section, we will focus on understanding the basics of how functions work, and introduce a few new ones."
   ]
  },
  {
   "cell_type": "markdown",
   "metadata": {},
   "source": [
    "## A function may take zero or more **arguments**\n",
    "\n",
    "An **argument** is a value passed into a function, inside parentheses. \n",
    "*   `len()` takes exactly one argument\n",
    "*   `int()`, `str()`, and `float()` take one argument\n",
    "*   `print` takes zero or more\n",
    "    *   `print` with no arguments prints a blank line\n",
    "*   We must always use parentheses when calling a function, even if they're empty, so that Python knows a function is being called\n",
    "\n",
    "~~~python\n",
    "print('before')\n",
    "print()\n",
    "print('after')\n",
    "~~~"
   ]
  },
  {
   "cell_type": "code",
   "execution_count": null,
   "metadata": {
    "collapsed": false,
    "jupyter": {
     "outputs_hidden": false
    }
   },
   "outputs": [],
   "source": []
  },
  {
   "cell_type": "markdown",
   "metadata": {},
   "source": [
    "## Every function **returns** something\n",
    "\n",
    "*   Every function call produces some result\n",
    "*   If the function doesn't have a useful result to return, it usually returns the special value `None`. `None` is a Python object that stands in anytime there is no value.\n",
    "*   Somewhat counter-intuitively, `print()` returns `None`. The `print()` function prints its arguments directly to the output, but when we attempt to assign the result of `print()` to a variable, that variable ends up with a value of `None`:\n",
    "\n",
    "~~~python\n",
    "result = print('example')\n",
    "print('result of print is', result)\n",
    "~~~"
   ]
  },
  {
   "cell_type": "code",
   "execution_count": null,
   "metadata": {
    "collapsed": false,
    "jupyter": {
     "outputs_hidden": false
    }
   },
   "outputs": [],
   "source": []
  },
  {
   "cell_type": "markdown",
   "metadata": {},
   "source": [
    "## Commonly-used built-in functions include `max`, `min`, and `round`.\n",
    "\n",
    "*   Use `max()` to find the largest value of two or more values\n",
    "*   Use `min()` to find the smallest\n",
    "*   Both work on character strings as well as numbers\n",
    "    *   \"Larger\" and \"smaller\" use (0-9, A-Z, a-z) to compare letters\n",
    "\n",
    "~~~python\n",
    "print(max(1, 2, 3))\n",
    "print(min('a', 'A', '0'))\n",
    "~~~"
   ]
  },
  {
   "cell_type": "code",
   "execution_count": null,
   "metadata": {
    "collapsed": false,
    "jupyter": {
     "outputs_hidden": false
    }
   },
   "outputs": [],
   "source": []
  },
  {
   "cell_type": "markdown",
   "metadata": {},
   "source": [
    "## Functions may only work for certain (combinations of) arguments\n",
    "\n",
    "`max()` and `min()` must be given at least two values to compare. They must also be given things that can meaningfully be compared.\n",
    "\n",
    "See what happens when you run each of the following:\n",
    "~~~python\n",
    "print(max(999))\n",
    "print(max(1, 'a'))\n",
    "~~~"
   ]
  },
  {
   "cell_type": "code",
   "execution_count": null,
   "metadata": {
    "collapsed": false,
    "jupyter": {
     "outputs_hidden": false
    }
   },
   "outputs": [],
   "source": []
  },
  {
   "cell_type": "markdown",
   "metadata": {},
   "source": [
    "## Functions may have default values for some arguments\n",
    "\n",
    "`round()` will round off a floating-point number. By default, it rounds to zero decimal places:\n",
    "\n",
    "~~~python\n",
    "round(3.712)\n",
    "~~~"
   ]
  },
  {
   "cell_type": "code",
   "execution_count": null,
   "metadata": {
    "collapsed": false,
    "jupyter": {
     "outputs_hidden": false
    }
   },
   "outputs": [],
   "source": []
  },
  {
   "cell_type": "markdown",
   "metadata": {},
   "source": [
    "We can specify the number of decimal places we want by passing a second argument\n",
    "\n",
    "~~~python\n",
    "round(3.712, 1)\n",
    "~~~"
   ]
  },
  {
   "cell_type": "code",
   "execution_count": null,
   "metadata": {
    "collapsed": false,
    "jupyter": {
     "outputs_hidden": false
    }
   },
   "outputs": [],
   "source": []
  },
  {
   "cell_type": "markdown",
   "metadata": {},
   "source": [
    "## Errors\n",
    "\n",
    "You can fix syntax errors by reading the source and runtime errors by tracing execution"
   ]
  },
  {
   "cell_type": "markdown",
   "metadata": {},
   "source": [
    "### Python reports a *syntax* error when it can't understand the source of a program\n",
    "\n",
    "Won't even try to run the program if it can't be parsed\n",
    "\n"
   ]
  },
  {
   "cell_type": "markdown",
   "metadata": {},
   "source": [
    "Look more closely at this error message:\n",
    "\n",
    "~~~python\n",
    "print(\"hello world\"\n",
    "~~~"
   ]
  },
  {
   "cell_type": "code",
   "execution_count": null,
   "metadata": {
    "collapsed": false,
    "jupyter": {
     "outputs_hidden": false
    }
   },
   "outputs": [],
   "source": []
  },
  {
   "cell_type": "markdown",
   "metadata": {},
   "source": [
    "*   The message indicates a problem on first line of the input (\"line 1\")\n",
    "    *   In this case the \"ipython-input\" section of the file name tells us that we are working with input into IPython, the Python interpreter used by the Jupyter Notebook\n",
    "*   The number after `ipython-input-` indicates the cell number that the error occurred in (the number in square brackets to the left of the cell). Note that cells are numbered based on the sequence they are *executed* in, not their order in the notebook. So if you execute the cell above again, this number will change.\n",
    "*   Next is the problematic line of code, indicating the start of the problem with a `^` pointer\n",
    "*   Finally, the type of error is provided on the last line"
   ]
  },
  {
   "cell_type": "markdown",
   "metadata": {},
   "source": [
    "Here are some other exampels of syntax errors:\n",
    "\n",
    "~~~python\n",
    "# Forgot to close the quote marks around the string\n",
    "name = 'Feng\n",
    "~~~"
   ]
  },
  {
   "cell_type": "code",
   "execution_count": null,
   "metadata": {
    "collapsed": false,
    "jupyter": {
     "outputs_hidden": false
    }
   },
   "outputs": [],
   "source": []
  },
  {
   "cell_type": "markdown",
   "metadata": {},
   "source": [
    "~~~python\n",
    "# An extra '=' in the assignment\n",
    "age = = 52\n",
    "~~~"
   ]
  },
  {
   "cell_type": "code",
   "execution_count": null,
   "metadata": {
    "collapsed": false,
    "jupyter": {
     "outputs_hidden": false
    }
   },
   "outputs": [],
   "source": []
  },
  {
   "cell_type": "markdown",
   "metadata": {},
   "source": [
    "### Python reports a *runtime* error when something goes wrong while a program is executing\n",
    "\n",
    "~~~python\n",
    "age = 53\n",
    "remaining = 100 - aege # mis-spelled 'age'\n",
    "~~~"
   ]
  },
  {
   "cell_type": "code",
   "execution_count": null,
   "metadata": {
    "collapsed": false,
    "jupyter": {
     "outputs_hidden": false
    }
   },
   "outputs": [],
   "source": []
  },
  {
   "cell_type": "markdown",
   "metadata": {},
   "source": [
    "## Getting Help"
   ]
  },
  {
   "cell_type": "markdown",
   "metadata": {},
   "source": [
    "### Use the built-in function `help` to get help for a function\n",
    "\n",
    "Every built-in function has online documentation.\n",
    "\n",
    "~~~python\n",
    "help(round)\n",
    "~~~"
   ]
  },
  {
   "cell_type": "code",
   "execution_count": null,
   "metadata": {
    "collapsed": false,
    "jupyter": {
     "outputs_hidden": false
    }
   },
   "outputs": [],
   "source": []
  },
  {
   "cell_type": "markdown",
   "metadata": {},
   "source": [
    "### The Jupyter Notebook has two ways to get help\n",
    "\n",
    "#### Option 1:\n",
    "- Place the cursor near where the function is invoked in a cell (i.e., the function name or its parameters),\n",
    "- Hold down `shift`, and press `tab`\n",
    "- Do this several times to expand the information returned"
   ]
  },
  {
   "cell_type": "code",
   "execution_count": null,
   "metadata": {
    "collapsed": false,
    "jupyter": {
     "outputs_hidden": false
    }
   },
   "outputs": [],
   "source": [
    "print('Get help by clicking the print command while in edit mode, and pressing shift-tab')"
   ]
  },
  {
   "cell_type": "markdown",
   "metadata": {},
   "source": [
    "#### Option 2:\n",
    "Type the function name in a cell with a question mark after it. Then run the cell"
   ]
  },
  {
   "cell_type": "code",
   "execution_count": null,
   "metadata": {
    "collapsed": false,
    "jupyter": {
     "outputs_hidden": false
    }
   },
   "outputs": [],
   "source": []
  },
  {
   "cell_type": "markdown",
   "metadata": {},
   "source": [
    "### Putting *comments* in your own code\n",
    "\n",
    "Anything appearing after a hash symbol `#` in a line of code is ignored by Python. These are called **comments**. This is a useful way to help yourself and other readers of your code understand what's going on.\n",
    "\n",
    "~~~python\n",
    "# This sentence isn't executed by Python\n",
    "adjustment = 0.5   # Neither is this - anything after '#' is ignored\n",
    "~~~"
   ]
  },
  {
   "cell_type": "code",
   "execution_count": null,
   "metadata": {
    "collapsed": false,
    "jupyter": {
     "outputs_hidden": false
    }
   },
   "outputs": [],
   "source": []
  },
  {
   "cell_type": "markdown",
   "metadata": {},
   "source": [
    "---\n",
    "## Exercises"
   ]
  },
  {
   "cell_type": "markdown",
   "metadata": {},
   "source": [
    "## What Happens When\n",
    "\n",
    "- Explain in simple terms the order of operations in the following program: when does the addition happen, when foes the subtraction happen, when is each function called, etc.\n",
    "- What is the final value of `radiance`?\n",
    "\n",
    "~~~python\n",
    "radiance = 1.0\n",
    "radiance = max(2.1, 2.0 + min(radiance, 1.1 * radiance - 0.5))\n",
    "~~~"
   ]
  },
  {
   "cell_type": "code",
   "execution_count": null,
   "metadata": {
    "collapsed": false,
    "jupyter": {
     "outputs_hidden": false
    }
   },
   "outputs": [],
   "source": []
  },
  {
   "cell_type": "markdown",
   "metadata": {},
   "source": [
    "## Solution\n",
    "1. `1.1 * radiance = 1.1`\n",
    "2. `1.1 - 0.5 = 0.6`\n",
    "3. `min(radiance, 0.6) = 0.6`\n",
    "4. `2.0 + 0.6 = 2.6`\n",
    "5. `max(2.1, 2.6) = 2.6`\n",
    "\n",
    "At the end, `radiance = 2.6`"
   ]
  },
  {
   "cell_type": "markdown",
   "metadata": {},
   "source": [
    "## Spot the Difference\n",
    "\n",
    "- Predict what each of the `print` statements in the program below will print\n",
    "- Does `max(len(rich), poor)` run or produce an error message?  If it runs, does its result make any sense?\n",
    "\n",
    "~~~python\n",
    "easy_string = \"abc\"\n",
    "print(max(easy_string))\n",
    "rich = \"gold\"\n",
    "poor = \"tin\"\n",
    "print(max(rich, poor))\n",
    "print(max(len(rich), poor))\n",
    "~~~"
   ]
  },
  {
   "cell_type": "code",
   "execution_count": null,
   "metadata": {
    "collapsed": false,
    "jupyter": {
     "outputs_hidden": false
    }
   },
   "outputs": [],
   "source": []
  },
  {
   "cell_type": "markdown",
   "metadata": {},
   "source": [
    "## Solution\n",
    "\n",
    "`max(len(rich), poor)` throws a TypeError. This turns into `max(4, 'tin')` and \n",
    "as we discussed earlier a string and integer cannot meaningfully be compared.\n",
    "\n",
    "## Why Not?\n",
    "Why don't `max` and `min` return `None` when they are given no arguments?\n",
    "\n",
    "## Solution\n",
    "`max` and `min` return TypeErrors in this case because the correct number of parameters\n",
    "was not supplied. If it just returned `None`, the error would be much harder to trace as it\n",
    "would likely be stored into a variable and used later in the program, only to likely throw\n",
    "a runtime error."
   ]
  },
  {
   "cell_type": "markdown",
   "metadata": {},
   "source": [
    "---\n",
    "## More on getting help: APIs\n",
    "One thing you will often find, especially if you're trying to figure out how to use a command or function, is the **application programming interface** (**API**). The API will give you the name of the command, and the different **arguments** it takes. Arguments are bits of information you provide to the command (typically inside parentheses) that are either required for the command to run, or optional extra information. For example, [this is the API for the NumPy command to compute the mean of a set of numbers](https://numpy.org/doc/stable/reference/generated/numpy.mean.html):\n",
    "`numpy.mean(a, axis=None, dtype=None, out=None, keepdims=<no value>)`\n",
    "\n",
    "The command itself is the first part before the parentheses (`numpy.mean`) and the arguments are in the parentheses. Each argument is separated by a comma from the other arguments. Required arguments are generally first in the list, and don't include an `=` sign. The arguments with `=` signs are generally optional. The NumPy API at the link above also explains what each argument is; for simplicity here, the `a` is the set of data you want to compute the mean from (which is required; how could the function give you a mean if it didn't have data to do that from?) and the other arguments are all options that might be required to get the result you desire.\n",
    "\n",
    "APIs may look pretty complicated at first, but they can be very helpful in breaking down a command and understanding how to use it better. By contrast, when you search the web for answers to programming questions, often you'll get example code that shows a particular way to use a function or method. This is also useful, but in order to adapt that to your problem (or understand what it's actually doing), you may want to check the API for that function to learn more.\n",
    "\n",
    "\n"
   ]
  },
  {
   "cell_type": "markdown",
   "metadata": {},
   "source": [
    "---\n",
    "## Summary of Key Points:\n",
    "- Functions are Python commands that return a result\n",
    "- Commonly-used built-in functions include `max`, `min`, and `round`\n",
    "- A function may take zero or more arguments\n",
    "    - Functions may only work for certain (combinations of) arguments\n",
    "    - Functions may have default values for some arguments\n",
    "- Fix syntax errors by reading the source code, and runtime errors by tracing the program's execution- Use the built-in function `help` to get help for a function\n",
    "- The Jupyter Notebook has two other ways to get help\n",
    "    - use a `?` followed by the function name\n",
    "    - position cursor over command name and press the `shift` + `tab` keys\n",
    "- Python reports a syntax error when it can't understand the source of a program\n",
    "- Python reports a runtime error when something goes wrong while a program is executing"
   ]
  },
  {
   "cell_type": "markdown",
   "metadata": {},
   "source": [
    "---\n",
    "This lesson is adapted from the [Software Carpentry](https://software-carpentry.org/lessons/) [Plotting and Programming in Python](http://swcarpentry.github.io/python-novice-gapminder/) workshop. "
   ]
  }
 ],
 "metadata": {
  "kernelspec": {
   "display_name": "Python 3 (ipykernel)",
   "language": "python",
   "name": "python3"
  },
  "language_info": {
   "codemirror_mode": {
    "name": "ipython",
    "version": 3
   },
   "file_extension": ".py",
   "mimetype": "text/x-python",
   "name": "python",
   "nbconvert_exporter": "python",
   "pygments_lexer": "ipython3",
   "version": "3.9.6"
  }
 },
 "nbformat": 4,
 "nbformat_minor": 4
}
